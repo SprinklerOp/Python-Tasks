{
 "cells": [
  {
   "cell_type": "code",
   "execution_count": null,
   "id": "50db956a-7f16-4670-847f-c5b4c58552b5",
   "metadata": {},
   "outputs": [],
   "source": [
    "import cv2\n",
    "cap  = cv2.VideoCapture(0)\n",
    "status ,photo = cap.read()\n",
    "if status:\n",
    "    cv2.imshow(\"MY\",photo)\n",
    "    cv2.waitKey()\n",
    "    cv2.destroyAllWindows(\"MY\")\n",
    "cap.release()\n",
    "\n"
   ]
  },
  {
   "cell_type": "code",
   "execution_count": null,
   "id": "f18f607c-790a-47e2-aedd-fc77a697869d",
   "metadata": {},
   "outputs": [],
   "source": [
    "photo.shape\n"
   ]
  },
  {
   "cell_type": "code",
   "execution_count": null,
   "id": "f61ee63d-0204-4588-9063-88652fa47782",
   "metadata": {},
   "outputs": [],
   "source": [
    "photo[50:300,100:400]"
   ]
  },
  {
   "cell_type": "code",
   "execution_count": null,
   "id": "60e930b3-efdd-423d-92d9-f85819af8d23",
   "metadata": {},
   "outputs": [],
   "source": [
    "import cv2\n",
    "cap  = cv2.VideoCapture(0)\n",
    "datta_model=cv2.CascadeClassifier(\"haarcascade_frontalface_default.xml\")\n",
    "while True:\n",
    "    status,photo= cap.read()\n",
    "    coor = datta_model.detectMultiScale(photo)\n",
    "    \n",
    "    if len(core) == 0:\n",
    "        pass\n",
    "    else:\n",
    "        x1 = coor [0][0]\n",
    "        y1 = coor [0][1]\n",
    "        x2 = coor [0][0] + coor [0][2]\n",
    "        y2 = coor [0][1] + coor [0][3]\n",
    "    \n",
    "    cv2.imshow(\"MY\", photo[y1:y2,x1:x2])\n",
    "    if cv2.waitKey(100)==13:\n",
    "        break\n",
    "cv2.destroyAllWindows()"
   ]
  },
  {
   "cell_type": "code",
   "execution_count": null,
   "id": "b03bbaff-3fe0-4ff3-af92-ee2271cc47e7",
   "metadata": {},
   "outputs": [],
   "source": []
  },
  {
   "cell_type": "code",
   "execution_count": null,
   "id": "323665f4-4061-4c00-8fb6-bab516de6c2b",
   "metadata": {},
   "outputs": [],
   "source": []
  }
 ],
 "metadata": {
  "kernelspec": {
   "display_name": "Python 3 (ipykernel)",
   "language": "python",
   "name": "python3"
  },
  "language_info": {
   "codemirror_mode": {
    "name": "ipython",
    "version": 3
   },
   "file_extension": ".py",
   "mimetype": "text/x-python",
   "name": "python",
   "nbconvert_exporter": "python",
   "pygments_lexer": "ipython3",
   "version": "3.11.7"
  }
 },
 "nbformat": 4,
 "nbformat_minor": 5
}
