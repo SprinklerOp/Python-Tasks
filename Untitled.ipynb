{
 "cells": [
  {
   "cell_type": "markdown",
   "id": "468e8db7-75b9-4d06-8300-c97f56627879",
   "metadata": {},
   "source": [
    "\\\n"
   ]
  },
  {
   "cell_type": "code",
   "execution_count": 1,
   "id": "2a14a360-93e1-4cda-a251-e9b42250f089",
   "metadata": {},
   "outputs": [
    {
     "data": {
      "text/plain": [
       "140709254186056"
      ]
     },
     "execution_count": 1,
     "metadata": {},
     "output_type": "execute_result"
    }
   ],
   "source": [
    "x=10\n",
    "\n",
    "id(x)"
   ]
  },
  {
   "cell_type": "code",
   "execution_count": null,
   "id": "8e5a769a-58c9-48b1-9e87-fe52b1a87ac2",
   "metadata": {},
   "outputs": [],
   "source": []
  },
  {
   "cell_type": "code",
   "execution_count": null,
   "id": "81dc972f-81bc-45ba-852f-b527d5a09341",
   "metadata": {},
   "outputs": [],
   "source": []
  }
 ],
 "metadata": {
  "kernelspec": {
   "display_name": "Python 3 (ipykernel)",
   "language": "python",
   "name": "python3"
  },
  "language_info": {
   "codemirror_mode": {
    "name": "ipython",
    "version": 3
   },
   "file_extension": ".py",
   "mimetype": "text/x-python",
   "name": "python",
   "nbconvert_exporter": "python",
   "pygments_lexer": "ipython3",
   "version": "3.11.7"
  }
 },
 "nbformat": 4,
 "nbformat_minor": 5
}
