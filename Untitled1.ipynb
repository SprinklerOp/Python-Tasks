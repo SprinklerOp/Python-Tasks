{
 "cells": [
  {
   "cell_type": "code",
   "execution_count": 1,
   "id": "4d76c4f9-3e85-4ad9-a3fd-89edba265738",
   "metadata": {},
   "outputs": [],
   "source": [
    "class VisitorForm:\n",
    "    name  = None\n",
    "    __email = \"tom@gmail.com\"\n",
    "    phone = None\n",
    "    query = None\n"
   ]
  },
  {
   "cell_type": "code",
   "execution_count": 2,
   "id": "cb29e968-4e93-4022-832d-212ee775e564",
   "metadata": {},
   "outputs": [],
   "source": [
    "tom=VisitorForm()\n",
    "yash=VisitorForm()"
   ]
  },
  {
   "cell_type": "code",
   "execution_count": 3,
   "id": "87303b57-fb48-416c-ab99-92547322be14",
   "metadata": {},
   "outputs": [],
   "source": [
    "\n",
    "tom.name = \"com\"\n",
    "tom.phone = 9324\n",
    "tom.query = \"My salary\"\n",
    "yash.email = \"yash@gmail.com\""
   ]
  },
  {
   "cell_type": "code",
   "execution_count": 4,
   "id": "3cfdfbed-a977-4a73-9c2a-910ba53d85b9",
   "metadata": {},
   "outputs": [
    {
     "data": {
      "text/plain": [
       "{'name': 'com', 'phone': 9324, 'query': 'My salary'}"
      ]
     },
     "execution_count": 4,
     "metadata": {},
     "output_type": "execute_result"
    }
   ],
   "source": [
    "tom.__dict__"
   ]
  },
  {
   "cell_type": "code",
   "execution_count": 5,
   "id": "95beeb7d-7772-4af1-89d5-f188c1e7254e",
   "metadata": {},
   "outputs": [],
   "source": [
    "tom.city = \"Mumbai\""
   ]
  },
  {
   "cell_type": "code",
   "execution_count": 6,
   "id": "77772ad7-0022-4833-b560-a056054481ce",
   "metadata": {},
   "outputs": [
    {
     "data": {
      "text/plain": [
       "{'name': 'com', 'phone': 9324, 'query': 'My salary', 'city': 'Mumbai'}"
      ]
     },
     "execution_count": 6,
     "metadata": {},
     "output_type": "execute_result"
    }
   ],
   "source": [
    "tom.__dict__"
   ]
  },
  {
   "cell_type": "code",
   "execution_count": 7,
   "id": "1b65bc0c-e0a3-484b-b2ba-c49404a71983",
   "metadata": {},
   "outputs": [
    {
     "data": {
      "text/plain": [
       "9324"
      ]
     },
     "execution_count": 7,
     "metadata": {},
     "output_type": "execute_result"
    }
   ],
   "source": [
    "tom.phone"
   ]
  },
  {
   "cell_type": "code",
   "execution_count": 8,
   "id": "a94a9e2c-a523-4f85-92e9-9bc6adec337e",
   "metadata": {},
   "outputs": [],
   "source": [
    " tom.phone = 4444"
   ]
  },
  {
   "cell_type": "code",
   "execution_count": 9,
   "id": "6bf17b02-6ef7-4da0-9473-c2c2565773be",
   "metadata": {},
   "outputs": [],
   "source": [
    "del tom.phone"
   ]
  },
  {
   "cell_type": "code",
   "execution_count": 10,
   "id": "2cd0d108-e170-41c0-b3dd-126cf13245e5",
   "metadata": {},
   "outputs": [],
   "source": [
    "tom.phone\n"
   ]
  },
  {
   "cell_type": "code",
   "execution_count": 11,
   "id": "dc723616-4cfe-4cfd-b57f-9957a968b136",
   "metadata": {},
   "outputs": [
    {
     "ename": "AttributeError",
     "evalue": "'VisitorForm' object has no attribute 'email'",
     "output_type": "error",
     "traceback": [
      "\u001b[1;31m---------------------------------------------------------------------------\u001b[0m",
      "\u001b[1;31mAttributeError\u001b[0m                            Traceback (most recent call last)",
      "Cell \u001b[1;32mIn[11], line 1\u001b[0m\n\u001b[1;32m----> 1\u001b[0m tom\u001b[38;5;241m.\u001b[39memail\n",
      "\u001b[1;31mAttributeError\u001b[0m: 'VisitorForm' object has no attribute 'email'"
     ]
    }
   ],
   "source": [
    "tom.email"
   ]
  },
  {
   "cell_type": "code",
   "execution_count": 12,
   "id": "7d762735-0eef-465e-99df-9f27c7ecb90d",
   "metadata": {},
   "outputs": [
    {
     "data": {
      "text/plain": [
       "['_VisitorForm__email',\n",
       " '__class__',\n",
       " '__delattr__',\n",
       " '__dict__',\n",
       " '__dir__',\n",
       " '__doc__',\n",
       " '__eq__',\n",
       " '__format__',\n",
       " '__ge__',\n",
       " '__getattribute__',\n",
       " '__getstate__',\n",
       " '__gt__',\n",
       " '__hash__',\n",
       " '__init__',\n",
       " '__init_subclass__',\n",
       " '__le__',\n",
       " '__lt__',\n",
       " '__module__',\n",
       " '__ne__',\n",
       " '__new__',\n",
       " '__reduce__',\n",
       " '__reduce_ex__',\n",
       " '__repr__',\n",
       " '__setattr__',\n",
       " '__sizeof__',\n",
       " '__str__',\n",
       " '__subclasshook__',\n",
       " '__weakref__',\n",
       " 'city',\n",
       " 'name',\n",
       " 'phone',\n",
       " 'query']"
      ]
     },
     "execution_count": 12,
     "metadata": {},
     "output_type": "execute_result"
    }
   ],
   "source": [
    "dir(tom)"
   ]
  },
  {
   "cell_type": "code",
   "execution_count": null,
   "id": "6f8fcbff-beeb-4c38-8f2f-8f7dcf7684ff",
   "metadata": {},
   "outputs": [],
   "source": [
    "tom.email"
   ]
  },
  {
   "cell_type": "code",
   "execution_count": null,
   "id": "795a4365-e153-4cdb-a836-4566fa94cb08",
   "metadata": {},
   "outputs": [],
   "source": []
  },
  {
   "cell_type": "code",
   "execution_count": null,
   "id": "bd1bc6be-377b-44d8-83d0-f4882aa0aed0",
   "metadata": {},
   "outputs": [],
   "source": []
  }
 ],
 "metadata": {
  "kernelspec": {
   "display_name": "Python 3 (ipykernel)",
   "language": "python",
   "name": "python3"
  },
  "language_info": {
   "codemirror_mode": {
    "name": "ipython",
    "version": 3
   },
   "file_extension": ".py",
   "mimetype": "text/x-python",
   "name": "python",
   "nbconvert_exporter": "python",
   "pygments_lexer": "ipython3",
   "version": "3.11.7"
  }
 },
 "nbformat": 4,
 "nbformat_minor": 5
}
