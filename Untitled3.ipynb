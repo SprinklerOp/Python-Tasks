{
 "cells": [
  {
   "cell_type": "code",
   "execution_count": null,
   "id": "c85a933c-b06f-4a11-a8ce-19373e2b57dc",
   "metadata": {},
   "outputs": [],
   "source": []
  },
  {
   "cell_type": "code",
   "execution_count": null,
   "id": "ff873ac4-6d3e-4eb7-ba4c-41d6855553a5",
   "metadata": {},
   "outputs": [],
   "source": []
  },
  {
   "cell_type": "code",
   "execution_count": null,
   "id": "8bc21ce3-1b0f-42d0-9067-b9b4ce25d4eb",
   "metadata": {},
   "outputs": [],
   "source": []
  },
  {
   "cell_type": "code",
   "execution_count": null,
   "id": "b22bfe80-cc88-495f-b0bb-5581b20302cc",
   "metadata": {},
   "outputs": [],
   "source": []
  },
  {
   "cell_type": "code",
   "execution_count": null,
   "id": "7e5cc88f-b777-41da-a573-b7ac9dbaaff0",
   "metadata": {},
   "outputs": [],
   "source": []
  },
  {
   "cell_type": "code",
   "execution_count": 1,
   "id": "b785b2b0-4b52-4b5a-90cc-4d1148608cf0",
   "metadata": {},
   "outputs": [],
   "source": [
    "import cv2\n",
    "import mediapipe\n",
    "from cvzone.HandTrackingModule import HandDetector\n",
    "cap = cv2.VideoCapture(0)\n",
    "status, photo= cap.read()\n",
    "cv2.imshow(\"datta\",photo)\n",
    "cv2.imwrite()\n",
    "cv2.waitKey()\n",
    "cv2.destroyAllWindows()\n"
   ]
  },
  {
   "cell_type": "code",
   "execution_count": 2,
   "id": "ea795d51-a362-472a-8429-4a4229f04552",
   "metadata": {},
   "outputs": [
    {
     "name": "stderr",
     "output_type": "stream",
     "text": [
      "C:\\Users\\pdatt\\anaconda3\\Lib\\site-packages\\google\\protobuf\\symbol_database.py:55: UserWarning: SymbolDatabase.GetPrototype() is deprecated. Please use message_factory.GetMessageClass() instead. SymbolDatabase.GetPrototype() will be removed soon.\n",
      "  warnings.warn('SymbolDatabase.GetPrototype() is deprecated. Please '\n"
     ]
    }
   ],
   "source": [
    "detect= HandDetector()\n",
    "y=detect.findHands(photo)"
   ]
  },
  {
   "cell_type": "code",
   "execution_count": null,
   "id": "fd021c24-e971-47c2-afe3-d29d2007ddd8",
   "metadata": {},
   "outputs": [],
   "source": [
    "y"
   ]
  },
  {
   "cell_type": "code",
   "execution_count": null,
   "id": "5f360801-4ad9-48fe-b92c-c1338c7bda3a",
   "metadata": {},
   "outputs": [],
   "source": [
    "if findHands[0]:\n",
    "    print(\"hand\")\n",
    "else:\n",
    "    print(\"noHand\")"
   ]
  },
  {
   "cell_type": "code",
   "execution_count": null,
   "id": "c66abf37-8ce5-4589-8746-8ad1b7d37fa6",
   "metadata": {},
   "outputs": [],
   "source": []
  },
  {
   "cell_type": "code",
   "execution_count": null,
   "id": "0c2510c7-4559-435a-91c5-0c997efd9a51",
   "metadata": {},
   "outputs": [],
   "source": []
  }
 ],
 "metadata": {
  "kernelspec": {
   "display_name": "Python 3 (ipykernel)",
   "language": "python",
   "name": "python3"
  },
  "language_info": {
   "codemirror_mode": {
    "name": "ipython",
    "version": 3
   },
   "file_extension": ".py",
   "mimetype": "text/x-python",
   "name": "python",
   "nbconvert_exporter": "python",
   "pygments_lexer": "ipython3",
   "version": "3.11.7"
  }
 },
 "nbformat": 4,
 "nbformat_minor": 5
}
