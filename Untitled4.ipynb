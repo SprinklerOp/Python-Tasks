{
 "cells": [
  {
   "cell_type": "code",
   "execution_count": 60,
   "id": "67f6bba7-07b7-4797-9cf8-f23eea7e47bc",
   "metadata": {},
   "outputs": [],
   "source": [
    "class VisitorForm:\n",
    "      name = None\n",
    "      phone =  []\n",
    "      email = None\n",
    "      query = None\n",
    "\n",
    "      def __init__(self,myname,myemail,myphone,myquery):\n",
    "          print(\"I am Constructor\")\n",
    "          self.name = myname\n",
    "          self.phone = myphone\n",
    "          self.email =  myemail\n",
    "          self.query = myquery\n",
    "    \n",
    "      def lw(self):\n",
    "         print(\"Datta\")\n",
    "         print(self.email)\n",
    "      def setEmail(self,e):\n",
    "          self.email = e\n",
    "      def getEmail(self):\n",
    "          print(self.email)"
   ]
  },
  {
   "cell_type": "code",
   "execution_count": 61,
   "id": "015c39c8-26d4-4159-9955-5b0520b9a33d",
   "metadata": {},
   "outputs": [
    {
     "name": "stdout",
     "output_type": "stream",
     "text": [
      "I am Constructor\n"
     ]
    }
   ],
   "source": [
    "jack = VisitorForm(\"jacklodu\",\"pdattaram@\",1111,\"bhuk lagi hain\")\n"
   ]
  },
  {
   "cell_type": "code",
   "execution_count": 62,
   "id": "cf90759f-7060-44ab-8aff-05b498dba854",
   "metadata": {},
   "outputs": [
    {
     "name": "stdout",
     "output_type": "stream",
     "text": [
      "Datta\n",
      "pdattaram@\n"
     ]
    }
   ],
   "source": [
    "jack.lw()"
   ]
  },
  {
   "cell_type": "code",
   "execution_count": 63,
   "id": "d2ae44dd-e015-46bf-bea6-18e51a295831",
   "metadata": {},
   "outputs": [
    {
     "name": "stdout",
     "output_type": "stream",
     "text": [
      "datta@123\n"
     ]
    }
   ],
   "source": [
    "jack.setEmail(\"datta@123\")\n",
    "jack.getEmail()"
   ]
  },
  {
   "cell_type": "code",
   "execution_count": 64,
   "id": "0f49cda4-2175-41d7-9ccf-a7839c474313",
   "metadata": {},
   "outputs": [
    {
     "data": {
      "text/plain": [
       "{'name': 'jacklodu',\n",
       " 'phone': 1111,\n",
       " 'email': 'datta@123',\n",
       " 'query': 'bhuk lagi hain'}"
      ]
     },
     "execution_count": 64,
     "metadata": {},
     "output_type": "execute_result"
    }
   ],
   "source": [
    "jack.__dict__"
   ]
  },
  {
   "cell_type": "code",
   "execution_count": null,
   "id": "59721170-d077-438b-943c-76a4ad30092c",
   "metadata": {},
   "outputs": [],
   "source": []
  },
  {
   "cell_type": "code",
   "execution_count": null,
   "id": "8ffb14c3-cc41-4a92-ac33-7a3c72281618",
   "metadata": {},
   "outputs": [],
   "source": []
  }
 ],
 "metadata": {
  "kernelspec": {
   "display_name": "Python 3 (ipykernel)",
   "language": "python",
   "name": "python3"
  },
  "language_info": {
   "codemirror_mode": {
    "name": "ipython",
    "version": 3
   },
   "file_extension": ".py",
   "mimetype": "text/x-python",
   "name": "python",
   "nbconvert_exporter": "python",
   "pygments_lexer": "ipython3",
   "version": "3.11.7"
  }
 },
 "nbformat": 4,
 "nbformat_minor": 5
}
