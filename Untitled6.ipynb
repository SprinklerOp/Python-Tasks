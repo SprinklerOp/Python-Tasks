{
 "cells": [
  {
   "cell_type": "code",
   "execution_count": 3,
   "id": "12e22522-28eb-41a2-98da-9ecf6fc9ae89",
   "metadata": {},
   "outputs": [],
   "source": [
    "import pymongo\n",
    "#dir(pymongo)"
   ]
  },
  {
   "cell_type": "code",
   "execution_count": 4,
   "id": "c3bf6606-5302-4af0-bb8b-d638e3d9b01f",
   "metadata": {},
   "outputs": [
    {
     "data": {
      "text/plain": [
       "['admin', 'config', 'datta', 'local']"
      ]
     },
     "execution_count": 4,
     "metadata": {},
     "output_type": "execute_result"
    }
   ],
   "source": [
    "client=pymongo.MongoClient(host=\"mongodb://localhost:27017\")\n",
    "client.list_database_names()"
   ]
  },
  {
   "cell_type": "code",
   "execution_count": 6,
   "id": "83e893f2-f815-4e0a-942d-50a5e70a4fe7",
   "metadata": {},
   "outputs": [
    {
     "data": {
      "text/plain": [
       "['admin', 'config', 'datta', 'local']"
      ]
     },
     "execution_count": 6,
     "metadata": {},
     "output_type": "execute_result"
    }
   ],
   "source": [
    "client.list_database_names()"
   ]
  },
  {
   "cell_type": "code",
   "execution_count": 8,
   "id": "70f6f4c4-7d3d-45e0-acbf-4ab30568c18a",
   "metadata": {},
   "outputs": [],
   "source": [
    "myDB=client['LW']"
   ]
  },
  {
   "cell_type": "code",
   "execution_count": 9,
   "id": "9f9fb63e-6e4f-4b1d-9493-17c15bae0e1f",
   "metadata": {},
   "outputs": [
    {
     "data": {
      "text/plain": [
       "Collection(Database(MongoClient(host=['localhost:27017'], document_class=dict, tz_aware=False, connect=True), 'LW'), 'students')"
      ]
     },
     "execution_count": 9,
     "metadata": {},
     "output_type": "execute_result"
    }
   ],
   "source": [
    "myDB.create_collection(\"students\")"
   ]
  },
  {
   "cell_type": "code",
   "execution_count": 10,
   "id": "981486c6-64e0-476b-a5e5-ecfd02ec191f",
   "metadata": {},
   "outputs": [
    {
     "data": {
      "text/plain": [
       "['LW', 'admin', 'config', 'datta', 'local']"
      ]
     },
     "execution_count": 10,
     "metadata": {},
     "output_type": "execute_result"
    }
   ],
   "source": [
    "client.list_database_names()"
   ]
  },
  {
   "cell_type": "code",
   "execution_count": 11,
   "id": "cd72233d-840f-4a6a-9164-c6c21bf8fae9",
   "metadata": {},
   "outputs": [
    {
     "data": {
      "text/plain": [
       "['students']"
      ]
     },
     "execution_count": 11,
     "metadata": {},
     "output_type": "execute_result"
    }
   ],
   "source": [
    "myDB.list_collection_names()"
   ]
  },
  {
   "cell_type": "code",
   "execution_count": 14,
   "id": "2fcee55f-ac85-4239-8ca3-7aef11812e43",
   "metadata": {},
   "outputs": [],
   "source": [
    "myDB[\"students\"].find_one()"
   ]
  },
  {
   "cell_type": "code",
   "execution_count": 45,
   "id": "11d5d39c-2e7c-48ea-a372-f95efade6742",
   "metadata": {},
   "outputs": [],
   "source": [
    "data={\n",
    "    \"name\":\"Vivek\",\n",
    "    \"phone\":1244,\n",
    "     \"age\":22,\n",
    "     \"gender\":\"Male\",\n",
    "}"
   ]
  },
  {
   "cell_type": "code",
   "execution_count": 46,
   "id": "78fab5bb-80ce-4c44-b67c-adc36515de81",
   "metadata": {},
   "outputs": [
    {
     "data": {
      "text/plain": [
       "InsertOneResult(ObjectId('66630042bd59d367ef53b5f7'), acknowledged=True)"
      ]
     },
     "execution_count": 46,
     "metadata": {},
     "output_type": "execute_result"
    }
   ],
   "source": [
    "myDB[\"students\"].insert_one(data)"
   ]
  },
  {
   "cell_type": "code",
   "execution_count": 47,
   "id": "2c00b9b8-e0c2-452d-88d6-c14b41ec6b70",
   "metadata": {},
   "outputs": [
    {
     "data": {
      "text/plain": [
       "<pymongo.cursor.Cursor at 0x1f5c5993850>"
      ]
     },
     "execution_count": 47,
     "metadata": {},
     "output_type": "execute_result"
    }
   ],
   "source": [
    "myDB[\"students\"].find()"
   ]
  },
  {
   "cell_type": "code",
   "execution_count": 48,
   "id": "5e5a4ac6-a01a-4f2e-980d-a141b3e5c5e4",
   "metadata": {},
   "outputs": [
    {
     "name": "stdout",
     "output_type": "stream",
     "text": [
      "{'_id': ObjectId('6662fb24bd59d367ef53b5f4'), 'name': 'Datta', 'phone': 4321, 'age': 20, 'gender': 'Male'}\n",
      "{'_id': ObjectId('66630013bd59d367ef53b5f5'), 'name': 'Neha', 'phone': 1234, 'age': 20, 'gender': 'Female'}\n",
      "{'_id': ObjectId('66630036bd59d367ef53b5f6'), 'name': 'Vivek', 'phone': 1234, 'age': 22, 'gender': 'Male'}\n",
      "{'_id': ObjectId('66630042bd59d367ef53b5f7'), 'name': 'Vivek', 'phone': 1244, 'age': 22, 'gender': 'Male'}\n"
     ]
    }
   ],
   "source": [
    "for i in myDB[\"students\"].find():\n",
    "    print(i)"
   ]
  },
  {
   "cell_type": "code",
   "execution_count": 49,
   "id": "fce81942-a593-43c0-9838-cbae5cd357ee",
   "metadata": {},
   "outputs": [],
   "source": [
    "age20=myDB['students'].find({\"age\":20})"
   ]
  },
  {
   "cell_type": "code",
   "execution_count": 56,
   "id": "31ca447d-dd9b-4b0e-a24d-ed473ab67f4f",
   "metadata": {},
   "outputs": [
    {
     "name": "stdout",
     "output_type": "stream",
     "text": [
      "1234\n",
      "1244\n"
     ]
    }
   ],
   "source": [
    "for i in age20:\n",
    "    print(i['phone'])"
   ]
  },
  {
   "cell_type": "code",
   "execution_count": 57,
   "id": "b400d63a-0ad0-4d0b-9341-8889a91ac642",
   "metadata": {},
   "outputs": [],
   "source": [
    "sab=myDB[\"students\"].find()"
   ]
  },
  {
   "cell_type": "code",
   "execution_count": 58,
   "id": "8c0cee79-84b8-4991-9958-29e0e21f77b1",
   "metadata": {},
   "outputs": [
    {
     "name": "stdout",
     "output_type": "stream",
     "text": [
      "{'_id': ObjectId('6662fb24bd59d367ef53b5f4'), 'name': 'Datta', 'phone': 4321, 'age': 20, 'gender': 'Male'}\n",
      "{'_id': ObjectId('66630013bd59d367ef53b5f5'), 'name': 'Neha', 'phone': 1234, 'age': 20, 'gender': 'Female'}\n",
      "{'_id': ObjectId('66630036bd59d367ef53b5f6'), 'name': 'Vivek', 'phone': 1234, 'age': 22, 'gender': 'Male'}\n",
      "{'_id': ObjectId('66630042bd59d367ef53b5f7'), 'name': 'Vivek', 'phone': 1244, 'age': 22, 'gender': 'Male'}\n"
     ]
    }
   ],
   "source": [
    "for i in sab:\n",
    "    print(i)"
   ]
  },
  {
   "cell_type": "code",
   "execution_count": 59,
   "id": "7f64a189-92d8-44a9-b588-0ec41c374fc5",
   "metadata": {},
   "outputs": [],
   "source": [
    "age20=myDB['students'].find({\"age\":{\"$gt\":20}})"
   ]
  },
  {
   "cell_type": "code",
   "execution_count": 60,
   "id": "22f9f375-f0b6-4284-aad2-3e59c0c4908f",
   "metadata": {},
   "outputs": [
    {
     "name": "stdout",
     "output_type": "stream",
     "text": [
      "<pymongo.cursor.Cursor object at 0x000001F5C5992950>\n"
     ]
    }
   ],
   "source": [
    "print(age20)"
   ]
  },
  {
   "cell_type": "code",
   "execution_count": null,
   "id": "d93912b7-7cce-45b3-8343-c7e4fe0af8a7",
   "metadata": {},
   "outputs": [],
   "source": []
  }
 ],
 "metadata": {
  "kernelspec": {
   "display_name": "Python 3 (ipykernel)",
   "language": "python",
   "name": "python3"
  },
  "language_info": {
   "codemirror_mode": {
    "name": "ipython",
    "version": 3
   },
   "file_extension": ".py",
   "mimetype": "text/x-python",
   "name": "python",
   "nbconvert_exporter": "python",
   "pygments_lexer": "ipython3",
   "version": "3.11.7"
  }
 },
 "nbformat": 4,
 "nbformat_minor": 5
}
